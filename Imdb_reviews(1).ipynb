{
  "nbformat": 4,
  "nbformat_minor": 0,
  "metadata": {
    "colab": {
      "name": "Imdb_reviews.ipynb",
      "provenance": [],
      "toc_visible": true
    },
    "kernelspec": {
      "name": "python3",
      "display_name": "Python 3"
    }
  },
  "cells": [
    {
      "cell_type": "code",
      "metadata": {
        "id": "nCWrnH1Ba_Iz",
        "colab_type": "code",
        "colab": {
          "base_uri": "https://localhost:8080/",
          "height": 237
        },
        "outputId": "50671007-a3da-4e08-faf7-0d3b0ca05dae"
      },
      "source": [
        "!pip install requests\n",
        "!pip install beautifulsoup4\n",
        "!pip install lxml\n",
        "!pip install html5lib\n",
        "!pip install stop_words"
      ],
      "execution_count": 1,
      "outputs": [
        {
          "output_type": "stream",
          "text": [
            "Requirement already satisfied: requests in /usr/local/lib/python3.6/dist-packages (2.23.0)\n",
            "Requirement already satisfied: chardet<4,>=3.0.2 in /usr/local/lib/python3.6/dist-packages (from requests) (3.0.4)\n",
            "Requirement already satisfied: idna<3,>=2.5 in /usr/local/lib/python3.6/dist-packages (from requests) (2.10)\n",
            "Requirement already satisfied: certifi>=2017.4.17 in /usr/local/lib/python3.6/dist-packages (from requests) (2020.6.20)\n",
            "Requirement already satisfied: urllib3!=1.25.0,!=1.25.1,<1.26,>=1.21.1 in /usr/local/lib/python3.6/dist-packages (from requests) (1.24.3)\n",
            "Requirement already satisfied: beautifulsoup4 in /usr/local/lib/python3.6/dist-packages (4.6.3)\n",
            "Requirement already satisfied: lxml in /usr/local/lib/python3.6/dist-packages (4.2.6)\n",
            "Requirement already satisfied: html5lib in /usr/local/lib/python3.6/dist-packages (1.0.1)\n",
            "Requirement already satisfied: six>=1.9 in /usr/local/lib/python3.6/dist-packages (from html5lib) (1.15.0)\n",
            "Requirement already satisfied: webencodings in /usr/local/lib/python3.6/dist-packages (from html5lib) (0.5.1)\n",
            "Requirement already satisfied: stop_words in /usr/local/lib/python3.6/dist-packages (2018.7.23)\n"
          ],
          "name": "stdout"
        }
      ]
    },
    {
      "cell_type": "code",
      "metadata": {
        "id": "NFX03CkHbM78",
        "colab_type": "code",
        "colab": {
          "base_uri": "https://localhost:8080/",
          "height": 73
        },
        "outputId": "8343dca9-ed53-4ef9-fcfa-7e9153c2c46e"
      },
      "source": [
        "from bs4 import BeautifulSoup\n",
        "import requests\n",
        "import pandas as pd\n",
        "import numpy as np\n",
        "import re\n",
        "import seaborn as sns\n",
        "import matplotlib.pyplot as plt"
      ],
      "execution_count": 2,
      "outputs": [
        {
          "output_type": "stream",
          "text": [
            "/usr/local/lib/python3.6/dist-packages/statsmodels/tools/_testing.py:19: FutureWarning: pandas.util.testing is deprecated. Use the functions in the public API at pandas.testing instead.\n",
            "  import pandas.util.testing as tm\n"
          ],
          "name": "stderr"
        }
      ]
    },
    {
      "cell_type": "code",
      "metadata": {
        "id": "q6zPPGaXbf58",
        "colab_type": "code",
        "colab": {}
      },
      "source": [
        "soup = BeautifulSoup(open('/content/drive/My Drive/1.html',encoding='utf-8'), 'html.parser')"
      ],
      "execution_count": 3,
      "outputs": []
    },
    {
      "cell_type": "code",
      "metadata": {
        "id": "O-Q2DpLIjM0s",
        "colab_type": "code",
        "colab": {
          "base_uri": "https://localhost:8080/",
          "height": 35
        },
        "outputId": "779249bc-0bda-4ccb-8844-29136d9a6026"
      },
      "source": [
        "movie_reviews = soup.find_all('div' , class_ = 'review-container')\n",
        "print(len(movie_reviews))"
      ],
      "execution_count": 4,
      "outputs": [
        {
          "output_type": "stream",
          "text": [
            "1124\n"
          ],
          "name": "stdout"
        }
      ]
    },
    {
      "cell_type": "code",
      "metadata": {
        "id": "nRKBm18ejZgL",
        "colab_type": "code",
        "colab": {
          "base_uri": "https://localhost:8080/",
          "height": 36
        },
        "outputId": "f10089e1-f6d0-4590-bb29-bf9a26040aac"
      },
      "source": [
        "sample_movie = movie_reviews[4] # gives us the review\n",
        "sample_movie.a.text"
      ],
      "execution_count": 5,
      "outputs": [
        {
          "output_type": "execute_result",
          "data": {
            "application/vnd.google.colaboratory.intrinsic+json": {
              "type": "string"
            },
            "text/plain": [
              "' Fantasy has never seemed so real\\n'"
            ]
          },
          "metadata": {
            "tags": []
          },
          "execution_count": 5
        }
      ]
    },
    {
      "cell_type": "code",
      "metadata": {
        "id": "QZiGHB3fjiiV",
        "colab_type": "code",
        "colab": {
          "base_uri": "https://localhost:8080/",
          "height": 162
        },
        "outputId": "2f9f345d-ae24-4feb-f8f4-5971ccaa2c29"
      },
      "source": [
        "temp = sample_movie.span.text #returns rating \n",
        "print(temp)\n",
        "# we can see that there are \\n objects inside the rating"
      ],
      "execution_count": 6,
      "outputs": [
        {
          "output_type": "stream",
          "text": [
            "\n",
            "\n",
            "\n",
            "\n",
            "\n",
            "\n",
            "10/10\n",
            "\n"
          ],
          "name": "stdout"
        }
      ]
    },
    {
      "cell_type": "code",
      "metadata": {
        "id": "EyZzYcyPjrWu",
        "colab_type": "code",
        "colab": {}
      },
      "source": [
        "## Extracting all ratings \n",
        "reviews = []\n",
        "ratings = []\n",
        "\n",
        "# Extract data from individual movie container\n",
        "for movie in movie_reviews:\n",
        "    \n",
        "    #review\n",
        "    review = movie.a.text\n",
        "    reviews.append(review)\n",
        "    \n",
        "    #rating\n",
        "    rating = movie.span.text\n",
        "    ratings.append(rating)"
      ],
      "execution_count": 7,
      "outputs": []
    },
    {
      "cell_type": "code",
      "metadata": {
        "id": "sA_ao-2qkNe7",
        "colab_type": "code",
        "colab": {
          "base_uri": "https://localhost:8080/",
          "height": 199
        },
        "outputId": "e6c5041c-81e9-492d-e907-f1a151645d88"
      },
      "source": [
        "df = pd.DataFrame({'Review': reviews,'Rating': ratings})\n",
        "print(df.info())"
      ],
      "execution_count": 8,
      "outputs": [
        {
          "output_type": "stream",
          "text": [
            "<class 'pandas.core.frame.DataFrame'>\n",
            "RangeIndex: 1124 entries, 0 to 1123\n",
            "Data columns (total 2 columns):\n",
            " #   Column  Non-Null Count  Dtype \n",
            "---  ------  --------------  ----- \n",
            " 0   Review  1124 non-null   object\n",
            " 1   Rating  1124 non-null   object\n",
            "dtypes: object(2)\n",
            "memory usage: 17.7+ KB\n",
            "None\n"
          ],
          "name": "stdout"
        }
      ]
    },
    {
      "cell_type": "code",
      "metadata": {
        "id": "ZP6FXXywkgeo",
        "colab_type": "code",
        "colab": {
          "base_uri": "https://localhost:8080/",
          "height": 206
        },
        "outputId": "a5e9154b-3638-4045-d6bb-1a96f3c71d9c"
      },
      "source": [
        "df.head()"
      ],
      "execution_count": 9,
      "outputs": [
        {
          "output_type": "execute_result",
          "data": {
            "text/html": [
              "<div>\n",
              "<style scoped>\n",
              "    .dataframe tbody tr th:only-of-type {\n",
              "        vertical-align: middle;\n",
              "    }\n",
              "\n",
              "    .dataframe tbody tr th {\n",
              "        vertical-align: top;\n",
              "    }\n",
              "\n",
              "    .dataframe thead th {\n",
              "        text-align: right;\n",
              "    }\n",
              "</style>\n",
              "<table border=\"1\" class=\"dataframe\">\n",
              "  <thead>\n",
              "    <tr style=\"text-align: right;\">\n",
              "      <th></th>\n",
              "      <th>Review</th>\n",
              "      <th>Rating</th>\n",
              "    </tr>\n",
              "  </thead>\n",
              "  <tbody>\n",
              "    <tr>\n",
              "      <th>0</th>\n",
              "      <td>Finally, a Show that stays true to it's writt...</td>\n",
              "      <td>\\n\\n\\n\\n\\n\\n9/10\\n</td>\n",
              "    </tr>\n",
              "    <tr>\n",
              "      <th>1</th>\n",
              "      <td>Excellent adaptation.\\n</td>\n",
              "      <td>\\n\\n\\n\\n\\n\\n10/10\\n</td>\n",
              "    </tr>\n",
              "    <tr>\n",
              "      <th>2</th>\n",
              "      <td>One of the most stunning shows on television\\n</td>\n",
              "      <td>\\n\\n\\n\\n\\n\\n10/10\\n</td>\n",
              "    </tr>\n",
              "    <tr>\n",
              "      <th>3</th>\n",
              "      <td>Lord of the Rings - I think not!\\n</td>\n",
              "      <td>\\n\\n\\n\\n\\n\\n10/10\\n</td>\n",
              "    </tr>\n",
              "    <tr>\n",
              "      <th>4</th>\n",
              "      <td>Fantasy has never seemed so real\\n</td>\n",
              "      <td>\\n\\n\\n\\n\\n\\n10/10\\n</td>\n",
              "    </tr>\n",
              "  </tbody>\n",
              "</table>\n",
              "</div>"
            ],
            "text/plain": [
              "                                              Review               Rating\n",
              "0   Finally, a Show that stays true to it's writt...   \\n\\n\\n\\n\\n\\n9/10\\n\n",
              "1                            Excellent adaptation.\\n  \\n\\n\\n\\n\\n\\n10/10\\n\n",
              "2     One of the most stunning shows on television\\n  \\n\\n\\n\\n\\n\\n10/10\\n\n",
              "3                 Lord of the Rings - I think not!\\n  \\n\\n\\n\\n\\n\\n10/10\\n\n",
              "4                 Fantasy has never seemed so real\\n  \\n\\n\\n\\n\\n\\n10/10\\n"
            ]
          },
          "metadata": {
            "tags": []
          },
          "execution_count": 9
        }
      ]
    },
    {
      "cell_type": "code",
      "metadata": {
        "id": "WSev23hwkh7q",
        "colab_type": "code",
        "colab": {}
      },
      "source": [
        "df.loc[:, 'Rating'] = df['Rating'].str[6:8]\n",
        "df.loc[:, 'Rating'] = df['Rating'].str.replace('/', '')\n",
        "df.loc[:, 'Review'] = df['Review'].str.replace('\\n', '')\n",
        "df.loc[:, 'Rating'] = df['Rating'].str.replace('-', '')"
      ],
      "execution_count": 10,
      "outputs": []
    },
    {
      "cell_type": "code",
      "metadata": {
        "id": "BPeM_VHoNDxV",
        "colab_type": "code",
        "colab": {
          "base_uri": "https://localhost:8080/",
          "height": 206
        },
        "outputId": "3f9d2acf-c759-4763-fc63-86ab1ea8ea3d"
      },
      "source": [
        "df.head()"
      ],
      "execution_count": 11,
      "outputs": [
        {
          "output_type": "execute_result",
          "data": {
            "text/html": [
              "<div>\n",
              "<style scoped>\n",
              "    .dataframe tbody tr th:only-of-type {\n",
              "        vertical-align: middle;\n",
              "    }\n",
              "\n",
              "    .dataframe tbody tr th {\n",
              "        vertical-align: top;\n",
              "    }\n",
              "\n",
              "    .dataframe thead th {\n",
              "        text-align: right;\n",
              "    }\n",
              "</style>\n",
              "<table border=\"1\" class=\"dataframe\">\n",
              "  <thead>\n",
              "    <tr style=\"text-align: right;\">\n",
              "      <th></th>\n",
              "      <th>Review</th>\n",
              "      <th>Rating</th>\n",
              "    </tr>\n",
              "  </thead>\n",
              "  <tbody>\n",
              "    <tr>\n",
              "      <th>0</th>\n",
              "      <td>Finally, a Show that stays true to it's writt...</td>\n",
              "      <td>9</td>\n",
              "    </tr>\n",
              "    <tr>\n",
              "      <th>1</th>\n",
              "      <td>Excellent adaptation.</td>\n",
              "      <td>10</td>\n",
              "    </tr>\n",
              "    <tr>\n",
              "      <th>2</th>\n",
              "      <td>One of the most stunning shows on television</td>\n",
              "      <td>10</td>\n",
              "    </tr>\n",
              "    <tr>\n",
              "      <th>3</th>\n",
              "      <td>Lord of the Rings - I think not!</td>\n",
              "      <td>10</td>\n",
              "    </tr>\n",
              "    <tr>\n",
              "      <th>4</th>\n",
              "      <td>Fantasy has never seemed so real</td>\n",
              "      <td>10</td>\n",
              "    </tr>\n",
              "  </tbody>\n",
              "</table>\n",
              "</div>"
            ],
            "text/plain": [
              "                                              Review Rating\n",
              "0   Finally, a Show that stays true to it's writt...      9\n",
              "1                              Excellent adaptation.     10\n",
              "2       One of the most stunning shows on television     10\n",
              "3                   Lord of the Rings - I think not!     10\n",
              "4                   Fantasy has never seemed so real     10"
            ]
          },
          "metadata": {
            "tags": []
          },
          "execution_count": 11
        }
      ]
    },
    {
      "cell_type": "code",
      "metadata": {
        "id": "GvZBbxsGlggP",
        "colab_type": "code",
        "colab": {}
      },
      "source": [
        "def clean(rating):\n",
        "    return re.sub('[a-zA-Z]+','NaN', rating)\n",
        "\n",
        "df['Rating'] = df['Rating'].apply(clean)"
      ],
      "execution_count": 12,
      "outputs": []
    },
    {
      "cell_type": "code",
      "metadata": {
        "id": "ujLeLOgEmLZR",
        "colab_type": "code",
        "colab": {}
      },
      "source": [
        "df = df[df.Rating.str.contains(\"NaN\") == False]\n",
        "df['Rating'] = df['Rating'].apply(pd.to_numeric)"
      ],
      "execution_count": 13,
      "outputs": []
    },
    {
      "cell_type": "code",
      "metadata": {
        "id": "vMGl5ALjmTo6",
        "colab_type": "code",
        "colab": {
          "base_uri": "https://localhost:8080/",
          "height": 206
        },
        "outputId": "870f26d9-7594-4d5f-f85f-8ec32d5b21b1"
      },
      "source": [
        "df.head()"
      ],
      "execution_count": 14,
      "outputs": [
        {
          "output_type": "execute_result",
          "data": {
            "text/html": [
              "<div>\n",
              "<style scoped>\n",
              "    .dataframe tbody tr th:only-of-type {\n",
              "        vertical-align: middle;\n",
              "    }\n",
              "\n",
              "    .dataframe tbody tr th {\n",
              "        vertical-align: top;\n",
              "    }\n",
              "\n",
              "    .dataframe thead th {\n",
              "        text-align: right;\n",
              "    }\n",
              "</style>\n",
              "<table border=\"1\" class=\"dataframe\">\n",
              "  <thead>\n",
              "    <tr style=\"text-align: right;\">\n",
              "      <th></th>\n",
              "      <th>Review</th>\n",
              "      <th>Rating</th>\n",
              "    </tr>\n",
              "  </thead>\n",
              "  <tbody>\n",
              "    <tr>\n",
              "      <th>0</th>\n",
              "      <td>Finally, a Show that stays true to it's writt...</td>\n",
              "      <td>9.0</td>\n",
              "    </tr>\n",
              "    <tr>\n",
              "      <th>1</th>\n",
              "      <td>Excellent adaptation.</td>\n",
              "      <td>10.0</td>\n",
              "    </tr>\n",
              "    <tr>\n",
              "      <th>2</th>\n",
              "      <td>One of the most stunning shows on television</td>\n",
              "      <td>10.0</td>\n",
              "    </tr>\n",
              "    <tr>\n",
              "      <th>3</th>\n",
              "      <td>Lord of the Rings - I think not!</td>\n",
              "      <td>10.0</td>\n",
              "    </tr>\n",
              "    <tr>\n",
              "      <th>4</th>\n",
              "      <td>Fantasy has never seemed so real</td>\n",
              "      <td>10.0</td>\n",
              "    </tr>\n",
              "  </tbody>\n",
              "</table>\n",
              "</div>"
            ],
            "text/plain": [
              "                                              Review  Rating\n",
              "0   Finally, a Show that stays true to it's writt...     9.0\n",
              "1                              Excellent adaptation.    10.0\n",
              "2       One of the most stunning shows on television    10.0\n",
              "3                   Lord of the Rings - I think not!    10.0\n",
              "4                   Fantasy has never seemed so real    10.0"
            ]
          },
          "metadata": {
            "tags": []
          },
          "execution_count": 14
        }
      ]
    },
    {
      "cell_type": "code",
      "metadata": {
        "id": "vkG3_WcPmXbg",
        "colab_type": "code",
        "colab": {
          "base_uri": "https://localhost:8080/",
          "height": 297
        },
        "outputId": "3b519506-24a3-47c0-f5d0-8028c803edf1"
      },
      "source": [
        "sns.countplot(df['Rating'])"
      ],
      "execution_count": 15,
      "outputs": [
        {
          "output_type": "execute_result",
          "data": {
            "text/plain": [
              "<matplotlib.axes._subplots.AxesSubplot at 0x7f9043f4a128>"
            ]
          },
          "metadata": {
            "tags": []
          },
          "execution_count": 15
        },
        {
          "output_type": "display_data",
          "data": {
            "image/png": "[encoded data removed]",
            "text/plain": [
              "<Figure size 432x288 with 1 Axes>"
            ]
          },
          "metadata": {
            "tags": [],
            "needs_background": "light"
          }
        }
      ]
    },
    {
      "cell_type": "code",
      "metadata": {
        "id": "C7qW16aVmfxT",
        "colab_type": "code",
        "colab": {}
      },
      "source": [
        "df = df[df.Rating <= 10] ## remove garbage ratings"
      ],
      "execution_count": 16,
      "outputs": []
    },
    {
      "cell_type": "code",
      "metadata": {
        "id": "uP0JZFW0m7Mk",
        "colab_type": "code",
        "colab": {}
      },
      "source": [
        "import nltk\n",
        "from nltk.corpus import stopwords\n",
        "from nltk.tokenize import RegexpTokenizer\n",
        "from nltk import sent_tokenize, word_tokenize\n",
        "from collections import Counter\n",
        "from stop_words import get_stop_words"
      ],
      "execution_count": null,
      "outputs": []
    },
    {
      "cell_type": "code",
      "metadata": {
        "id": "w5GEaWMSnAcb",
        "colab_type": "code",
        "colab": {
          "base_uri": "https://localhost:8080/",
          "height": 108
        },
        "outputId": "9a7f5541-5ec8-4cfe-90b8-f2449425e430"
      },
      "source": [
        "nltk.download('punkt')\n",
        "nltk.download('stopwords')"
      ],
      "execution_count": null,
      "outputs": [
        {
          "output_type": "stream",
          "text": [
            "[nltk_data] Downloading package punkt to /root/nltk_data...\n",
            "[nltk_data]   Package punkt is already up-to-date!\n",
            "[nltk_data] Downloading package stopwords to /root/nltk_data...\n",
            "[nltk_data]   Unzipping corpora/stopwords.zip.\n"
          ],
          "name": "stdout"
        },
        {
          "output_type": "execute_result",
          "data": {
            "text/plain": [
              "True"
            ]
          },
          "metadata": {
            "tags": []
          },
          "execution_count": 33
        }
      ]
    },
    {
      "cell_type": "code",
      "metadata": {
        "id": "m56XIhyCnQ5o",
        "colab_type": "code",
        "colab": {}
      },
      "source": [
        "a = df['Review'].str.lower().str.cat(sep=' ')\n",
        "b = re.sub('[^A-Za-z]+', ' ', a)"
      ],
      "execution_count": null,
      "outputs": []
    },
    {
      "cell_type": "code",
      "metadata": {
        "id": "7dJM3sySn42D",
        "colab_type": "code",
        "colab": {}
      },
      "source": [
        "stop_words = list(get_stop_words('en'))         \n",
        "nltk_words = list(stopwords.words('english'))   \n",
        "stop_words.extend(nltk_words)\n",
        "\n",
        "newStopWords = ['game','thrones', 'bran', 'stark', 'dragons']\n",
        "stop_words.extend(newStopWords)"
      ],
      "execution_count": null,
      "outputs": []
    },
    {
      "cell_type": "code",
      "metadata": {
        "id": "QU_oDB51oBgo",
        "colab_type": "code",
        "colab": {
          "base_uri": "https://localhost:8080/",
          "height": 35
        },
        "outputId": "222758b8-8adb-4dd4-c7d2-e1f53df8b792"
      },
      "source": [
        "word_tokens = word_tokenize(b)\n",
        "len(word_tokens)"
      ],
      "execution_count": null,
      "outputs": [
        {
          "output_type": "execute_result",
          "data": {
            "text/plain": [
              "6030"
            ]
          },
          "metadata": {
            "tags": []
          },
          "execution_count": 36
        }
      ]
    },
    {
      "cell_type": "code",
      "metadata": {
        "id": "tglgf9iUoSAG",
        "colab_type": "code",
        "colab": {}
      },
      "source": [
        "filtered_sentence = []\n",
        "for w in word_tokens:\n",
        "    if w not in stop_words:\n",
        "        filtered_sentence.append(w)"
      ],
      "execution_count": null,
      "outputs": []
    },
    {
      "cell_type": "code",
      "metadata": {
        "id": "-zF4pKswobNO",
        "colab_type": "code",
        "colab": {}
      },
      "source": [
        "# Remove characters which have length less than 2  \n",
        "cleaned_data = [word for word in filtered_sentence if len(word) > 2]\n",
        "\n",
        "# Remove numbers\n",
        "cleaned_data_title = [word for word in cleaned_data if not word.isnumeric()]  "
      ],
      "execution_count": null,
      "outputs": []
    },
    {
      "cell_type": "code",
      "metadata": {
        "id": "5O148a1Spjpz",
        "colab_type": "code",
        "colab": {
          "base_uri": "https://localhost:8080/",
          "height": 72
        },
        "outputId": "45df18ab-7dc3-4af9-bdd3-83f634d69e45"
      },
      "source": [
        "!pip install textblob"
      ],
      "execution_count": null,
      "outputs": [
        {
          "output_type": "stream",
          "text": [
            "Requirement already satisfied: textblob in /usr/local/lib/python3.6/dist-packages (0.15.3)\n",
            "Requirement already satisfied: nltk>=3.1 in /usr/local/lib/python3.6/dist-packages (from textblob) (3.2.5)\n",
            "Requirement already satisfied: six in /usr/local/lib/python3.6/dist-packages (from nltk>=3.1->textblob) (1.15.0)\n"
          ],
          "name": "stdout"
        }
      ]
    },
    {
      "cell_type": "code",
      "metadata": {
        "id": "53_f3BUnpT6o",
        "colab_type": "code",
        "colab": {}
      },
      "source": [
        "from textblob import TextBlob\n",
        "#text blob used for sentiment analysis\n",
        "\n",
        "bloblist_desc = list()\n",
        "\n",
        "df_review_str=df['Review'].astype(str)\n",
        "\n",
        "for row in df_review_str:\n",
        "    blob = TextBlob(row)\n",
        "    bloblist_desc.append((row,blob.sentiment.polarity, blob.sentiment.subjectivity))\n",
        "    df_polarity_desc = pd.DataFrame(bloblist_desc, columns = ['Review','sentiment','polarity'])"
      ],
      "execution_count": null,
      "outputs": []
    },
    {
      "cell_type": "code",
      "metadata": {
        "id": "gpFgvAflpon-",
        "colab_type": "code",
        "colab": {
          "base_uri": "https://localhost:8080/",
          "height": 206
        },
        "outputId": "029ddf03-5441-4c04-8396-b8b416a5f146"
      },
      "source": [
        "df_polarity_desc.head()"
      ],
      "execution_count": null,
      "outputs": [
        {
          "output_type": "execute_result",
          "data": {
            "text/html": [
              "<div>\n",
              "<style scoped>\n",
              "    .dataframe tbody tr th:only-of-type {\n",
              "        vertical-align: middle;\n",
              "    }\n",
              "\n",
              "    .dataframe tbody tr th {\n",
              "        vertical-align: top;\n",
              "    }\n",
              "\n",
              "    .dataframe thead th {\n",
              "        text-align: right;\n",
              "    }\n",
              "</style>\n",
              "<table border=\"1\" class=\"dataframe\">\n",
              "  <thead>\n",
              "    <tr style=\"text-align: right;\">\n",
              "      <th></th>\n",
              "      <th>Review</th>\n",
              "      <th>sentiment</th>\n",
              "      <th>polarity</th>\n",
              "    </tr>\n",
              "  </thead>\n",
              "  <tbody>\n",
              "    <tr>\n",
              "      <th>0</th>\n",
              "      <td>Finally, a Show that stays true to it's writt...</td>\n",
              "      <td>0.175</td>\n",
              "      <td>0.825</td>\n",
              "    </tr>\n",
              "    <tr>\n",
              "      <th>1</th>\n",
              "      <td>Excellent adaptation.</td>\n",
              "      <td>1.000</td>\n",
              "      <td>1.000</td>\n",
              "    </tr>\n",
              "    <tr>\n",
              "      <th>2</th>\n",
              "      <td>One of the most stunning shows on television</td>\n",
              "      <td>0.500</td>\n",
              "      <td>0.750</td>\n",
              "    </tr>\n",
              "    <tr>\n",
              "      <th>3</th>\n",
              "      <td>Lord of the Rings - I think not!</td>\n",
              "      <td>0.000</td>\n",
              "      <td>0.000</td>\n",
              "    </tr>\n",
              "    <tr>\n",
              "      <th>4</th>\n",
              "      <td>Fantasy has never seemed so real</td>\n",
              "      <td>0.200</td>\n",
              "      <td>0.300</td>\n",
              "    </tr>\n",
              "  </tbody>\n",
              "</table>\n",
              "</div>"
            ],
            "text/plain": [
              "                                              Review  sentiment  polarity\n",
              "0   Finally, a Show that stays true to it's writt...      0.175     0.825\n",
              "1                              Excellent adaptation.      1.000     1.000\n",
              "2       One of the most stunning shows on television      0.500     0.750\n",
              "3                   Lord of the Rings - I think not!      0.000     0.000\n",
              "4                   Fantasy has never seemed so real      0.200     0.300"
            ]
          },
          "metadata": {
            "tags": []
          },
          "execution_count": 42
        }
      ]
    },
    {
      "cell_type": "code",
      "metadata": {
        "id": "LI8t6Oh7pwXu",
        "colab_type": "code",
        "colab": {
          "base_uri": "https://localhost:8080/",
          "height": 300
        },
        "outputId": "e365ac57-dfa0-41e7-c8d5-adf99c1db48a"
      },
      "source": [
        "df_polarity_desc.describe()"
      ],
      "execution_count": null,
      "outputs": [
        {
          "output_type": "execute_result",
          "data": {
            "text/html": [
              "<div>\n",
              "<style scoped>\n",
              "    .dataframe tbody tr th:only-of-type {\n",
              "        vertical-align: middle;\n",
              "    }\n",
              "\n",
              "    .dataframe tbody tr th {\n",
              "        vertical-align: top;\n",
              "    }\n",
              "\n",
              "    .dataframe thead th {\n",
              "        text-align: right;\n",
              "    }\n",
              "</style>\n",
              "<table border=\"1\" class=\"dataframe\">\n",
              "  <thead>\n",
              "    <tr style=\"text-align: right;\">\n",
              "      <th></th>\n",
              "      <th>sentiment</th>\n",
              "      <th>polarity</th>\n",
              "    </tr>\n",
              "  </thead>\n",
              "  <tbody>\n",
              "    <tr>\n",
              "      <th>count</th>\n",
              "      <td>1065.000000</td>\n",
              "      <td>1065.000000</td>\n",
              "    </tr>\n",
              "    <tr>\n",
              "      <th>mean</th>\n",
              "      <td>0.266917</td>\n",
              "      <td>0.464410</td>\n",
              "    </tr>\n",
              "    <tr>\n",
              "      <th>std</th>\n",
              "      <td>0.489870</td>\n",
              "      <td>0.356932</td>\n",
              "    </tr>\n",
              "    <tr>\n",
              "      <th>min</th>\n",
              "      <td>-1.000000</td>\n",
              "      <td>0.000000</td>\n",
              "    </tr>\n",
              "    <tr>\n",
              "      <th>25%</th>\n",
              "      <td>0.000000</td>\n",
              "      <td>0.000000</td>\n",
              "    </tr>\n",
              "    <tr>\n",
              "      <th>50%</th>\n",
              "      <td>0.108963</td>\n",
              "      <td>0.454545</td>\n",
              "    </tr>\n",
              "    <tr>\n",
              "      <th>75%</th>\n",
              "      <td>0.700000</td>\n",
              "      <td>0.750000</td>\n",
              "    </tr>\n",
              "    <tr>\n",
              "      <th>max</th>\n",
              "      <td>1.000000</td>\n",
              "      <td>1.000000</td>\n",
              "    </tr>\n",
              "  </tbody>\n",
              "</table>\n",
              "</div>"
            ],
            "text/plain": [
              "         sentiment     polarity\n",
              "count  1065.000000  1065.000000\n",
              "mean      0.266917     0.464410\n",
              "std       0.489870     0.356932\n",
              "min      -1.000000     0.000000\n",
              "25%       0.000000     0.000000\n",
              "50%       0.108963     0.454545\n",
              "75%       0.700000     0.750000\n",
              "max       1.000000     1.000000"
            ]
          },
          "metadata": {
            "tags": []
          },
          "execution_count": 43
        }
      ]
    },
    {
      "cell_type": "code",
      "metadata": {
        "id": "PoIdZBFop4Ns",
        "colab_type": "code",
        "colab": {}
      },
      "source": [
        "def review_type(df_polarity_desc):\n",
        "    if df_polarity_desc['sentiment'] >= 0:\n",
        "        val = \"Positive Review\"\n",
        "    elif df_polarity_desc['sentiment'] >= -0.09:\n",
        "        val = \"Neutral Review\"\n",
        "    else:\n",
        "        val = \"Negative Review\"\n",
        "    return val"
      ],
      "execution_count": null,
      "outputs": []
    },
    {
      "cell_type": "code",
      "metadata": {
        "id": "qMk3-mHJp9yu",
        "colab_type": "code",
        "colab": {}
      },
      "source": [
        "df_polarity_desc['Sentiment_Type'] = df_polarity_desc.apply(review_type, axis=1)"
      ],
      "execution_count": null,
      "outputs": []
    },
    {
      "cell_type": "code",
      "metadata": {
        "id": "jLXujKquqFhF",
        "colab_type": "code",
        "colab": {}
      },
      "source": [
        "positive_reviews=df_polarity_desc[df_polarity_desc['Sentiment_Type']=='Positive Review']\n",
        "negative_reviews=df_polarity_desc[df_polarity_desc['Sentiment_Type']=='Negative Review']"
      ],
      "execution_count": null,
      "outputs": []
    },
    {
      "cell_type": "code",
      "metadata": {
        "id": "CTjGJntZqJJm",
        "colab_type": "code",
        "colab": {
          "base_uri": "https://localhost:8080/",
          "height": 35
        },
        "outputId": "7cd46f96-1f5b-484e-b70c-68ed1515c95b"
      },
      "source": [
        "len(positive_reviews), len(negative_reviews) ## to find if there is a bias"
      ],
      "execution_count": null,
      "outputs": [
        {
          "output_type": "execute_result",
          "data": {
            "text/plain": [
              "(888, 169)"
            ]
          },
          "metadata": {
            "tags": []
          },
          "execution_count": 48
        }
      ]
    },
    {
      "cell_type": "code",
      "metadata": {
        "id": "gpCx2EmEqLrm",
        "colab_type": "code",
        "colab": {}
      },
      "source": [
        "import string\n",
        "\n",
        "def preprocess(review):\n",
        "    review_words =[word for word in review if word not in string.punctuation]\n",
        "    review_words = ''.join(review_words)\n",
        "    return [word for word in review_words.split() if word.lower() not in stopwords.words('english')]"
      ],
      "execution_count": null,
      "outputs": []
    },
    {
      "cell_type": "code",
      "metadata": {
        "id": "8ABEnRYOrjMj",
        "colab_type": "code",
        "colab": {}
      },
      "source": [
        "df=df.dropna(axis=0,how='any')\n",
        "X_review= df['Review']\n",
        "y= df['Rating']"
      ],
      "execution_count": null,
      "outputs": []
    },
    {
      "cell_type": "code",
      "metadata": {
        "id": "cvbvanGLsBMl",
        "colab_type": "code",
        "colab": {}
      },
      "source": [
        "from sklearn.feature_extraction.text import CountVectorizer\n",
        "bow_transformer=CountVectorizer(analyzer=preprocess).fit(X_review)\n",
        "X_review = bow_transformer.transform(X_review)"
      ],
      "execution_count": null,
      "outputs": []
    },
    {
      "cell_type": "code",
      "metadata": {
        "id": "itdcrbLWrc3L",
        "colab_type": "code",
        "colab": {}
      },
      "source": [
        "from sklearn.model_selection import train_test_split\n",
        "X_train, X_test, y_train, y_test = train_test_split(X_review, y, test_size=0.2, random_state=420)"
      ],
      "execution_count": null,
      "outputs": []
    },
    {
      "cell_type": "markdown",
      "metadata": {
        "id": "rP02RUaVNQHB",
        "colab_type": "text"
      },
      "source": [
        "Multinomial Bayes for classification"
      ]
    },
    {
      "cell_type": "code",
      "metadata": {
        "id": "K7tUh9dEqwcv",
        "colab_type": "code",
        "colab": {}
      },
      "source": [
        "from sklearn.naive_bayes import MultinomialNB\n",
        "nb = MultinomialNB() "
      ],
      "execution_count": null,
      "outputs": []
    },
    {
      "cell_type": "code",
      "metadata": {
        "id": "3V163i4yrI5Y",
        "colab_type": "code",
        "colab": {}
      },
      "source": [
        "# training the model\n",
        "nb.fit(X_train, y_train)\n",
        "predict=nb.predict(X_test)"
      ],
      "execution_count": null,
      "outputs": []
    },
    {
      "cell_type": "code",
      "metadata": {
        "id": "YQd4NRw2rrVR",
        "colab_type": "code",
        "colab": {
          "base_uri": "https://localhost:8080/",
          "height": 437
        },
        "outputId": "5b03c61a-8583-47f1-9db2-35aaad1c1c73"
      },
      "source": [
        "from sklearn.metrics import classification_report, accuracy_score\n",
        "\n",
        "print('\\n Accuracy:')\n",
        "print(accuracy_score(y_test, predict))\n",
        "print(classification_report(y_test, predict))"
      ],
      "execution_count": null,
      "outputs": [
        {
          "output_type": "stream",
          "text": [
            "\n",
            " Accuracy:\n",
            "0.5305164319248826\n",
            "              precision    recall  f1-score   support\n",
            "\n",
            "         1.0       0.21      0.18      0.19        17\n",
            "         2.0       0.00      0.00      0.00         5\n",
            "         3.0       0.00      0.00      0.00         5\n",
            "         4.0       0.00      0.00      0.00         3\n",
            "         5.0       0.00      0.00      0.00         7\n",
            "         6.0       0.00      0.00      0.00         8\n",
            "         7.0       0.00      0.00      0.00        12\n",
            "         8.0       0.00      0.00      0.00        15\n",
            "         9.0       0.18      0.08      0.11        25\n",
            "        10.0       0.60      0.93      0.73       116\n",
            "\n",
            "    accuracy                           0.53       213\n",
            "   macro avg       0.10      0.12      0.10       213\n",
            "weighted avg       0.36      0.53      0.42       213\n",
            "\n"
          ],
          "name": "stdout"
        },
        {
          "output_type": "stream",
          "text": [
            "/usr/local/lib/python3.6/dist-packages/sklearn/metrics/_classification.py:1272: UndefinedMetricWarning: Precision and F-score are ill-defined and being set to 0.0 in labels with no predicted samples. Use `zero_division` parameter to control this behavior.\n",
            "  _warn_prf(average, modifier, msg_start, len(result))\n"
          ],
          "name": "stderr"
        }
      ]
    },
    {
      "cell_type": "markdown",
      "metadata": {
        "id": "Y4DUkNOttBt3",
        "colab_type": "text"
      },
      "source": [
        "LSTMs for classification"
      ]
    },
    {
      "cell_type": "code",
      "metadata": {
        "id": "kCij31zWNWFd",
        "colab_type": "code",
        "colab": {
          "base_uri": "https://localhost:8080/",
          "height": 35
        },
        "outputId": "122c336d-a9eb-40aa-fc65-f45d1f144dd3"
      },
      "source": [
        "df['Review'].apply(len).max()"
      ],
      "execution_count": 17,
      "outputs": [
        {
          "output_type": "execute_result",
          "data": {
            "text/plain": [
              "166"
            ]
          },
          "metadata": {
            "tags": []
          },
          "execution_count": 17
        }
      ]
    },
    {
      "cell_type": "code",
      "metadata": {
        "id": "xxcRirPFSFnn",
        "colab_type": "code",
        "colab": {}
      },
      "source": [
        "MAX_WORDS = 50000\n",
        "MAX_LEN  = 166"
      ],
      "execution_count": 18,
      "outputs": []
    },
    {
      "cell_type": "code",
      "metadata": {
        "id": "7WhVNtKxSgej",
        "colab_type": "code",
        "colab": {}
      },
      "source": [
        "import tensorflow as tf\n",
        "from tensorflow.keras.preprocessing.text import Tokenizer\n",
        "from tensorflow.keras.preprocessing import sequence"
      ],
      "execution_count": 19,
      "outputs": []
    },
    {
      "cell_type": "code",
      "metadata": {
        "id": "AmrHohpvS4ia",
        "colab_type": "code",
        "colab": {}
      },
      "source": [
        "from sklearn.model_selection import train_test_split\n",
        "X_train, X_test, y_train, y_test = train_test_split(df['Review'], df['Rating'], test_size=0.2, random_state=420)"
      ],
      "execution_count": 21,
      "outputs": []
    },
    {
      "cell_type": "code",
      "metadata": {
        "id": "0Hx6UorlTPCE",
        "colab_type": "code",
        "colab": {}
      },
      "source": [
        "tok = Tokenizer(num_words=MAX_WORDS)\n",
        "tok.fit_on_texts(X_train)\n",
        "sequences = tok.texts_to_sequences(X_train)\n",
        "sequences_matrix = sequence.pad_sequences(sequences,maxlen=MAX_LEN)"
      ],
      "execution_count": 22,
      "outputs": []
    },
    {
      "cell_type": "code",
      "metadata": {
        "id": "Psq9nZGRYauF",
        "colab_type": "code",
        "colab": {
          "base_uri": "https://localhost:8080/",
          "height": 35
        },
        "outputId": "e30f6213-5b75-4dbd-a937-05aca1204e49"
      },
      "source": [
        "sequences_matrix.shape"
      ],
      "execution_count": 23,
      "outputs": [
        {
          "output_type": "execute_result",
          "data": {
            "text/plain": [
              "(852, 166)"
            ]
          },
          "metadata": {
            "tags": []
          },
          "execution_count": 23
        }
      ]
    },
    {
      "cell_type": "code",
      "metadata": {
        "id": "bXpvsHn5UDu9",
        "colab_type": "code",
        "colab": {}
      },
      "source": [
        "import tensorflow.keras as keras\n",
        "from tensorflow.keras import layers"
      ],
      "execution_count": 24,
      "outputs": []
    },
    {
      "cell_type": "code",
      "metadata": {
        "id": "zPpETQ0BTWzC",
        "colab_type": "code",
        "colab": {}
      },
      "source": [
        "## Building the model ##\n",
        "\n",
        "inputs = keras.Input(shape = (MAX_LEN,))\n",
        "\n",
        "x = layers.Embedding(MAX_WORDS, 64, input_length=MAX_LEN)(inputs)\n",
        "x = layers.LSTM(64)(x)\n",
        "x = layers.Dense(256, activation='relu')(x)\n",
        "x = layers.Dropout(0.5)(x)\n",
        "outputs = layers.Dense(10, activation='relu')(x)\n",
        "\n",
        "text_classifier = keras.Model(inputs, outputs)"
      ],
      "execution_count": 25,
      "outputs": []
    },
    {
      "cell_type": "code",
      "metadata": {
        "id": "PsdrTI4FVrD4",
        "colab_type": "code",
        "colab": {
          "base_uri": "https://localhost:8080/",
          "height": 380
        },
        "outputId": "9c74e645-471b-411e-f04a-7b7971baf163"
      },
      "source": [
        "text_classifier.summary()"
      ],
      "execution_count": 26,
      "outputs": [
        {
          "output_type": "stream",
          "text": [
            "Model: \"model\"\n",
            "_________________________________________________________________\n",
            "Layer (type)                 Output Shape              Param #   \n",
            "=================================================================\n",
            "input_1 (InputLayer)         [(None, 166)]             0         \n",
            "_________________________________________________________________\n",
            "embedding (Embedding)        (None, 166, 64)           3200000   \n",
            "_________________________________________________________________\n",
            "lstm (LSTM)                  (None, 64)                33024     \n",
            "_________________________________________________________________\n",
            "dense (Dense)                (None, 256)               16640     \n",
            "_________________________________________________________________\n",
            "dropout (Dropout)            (None, 256)               0         \n",
            "_________________________________________________________________\n",
            "dense_1 (Dense)              (None, 10)                2570      \n",
            "=================================================================\n",
            "Total params: 3,252,234\n",
            "Trainable params: 3,252,234\n",
            "Non-trainable params: 0\n",
            "_________________________________________________________________\n"
          ],
          "name": "stdout"
        }
      ]
    },
    {
      "cell_type": "code",
      "metadata": {
        "id": "vXM-f_6nVyqq",
        "colab_type": "code",
        "colab": {}
      },
      "source": [
        "text_classifier.compile(loss=tf.keras.losses.CategoricalCrossentropy(from_logits=True),\n",
        "                        optimizer=tf.keras.optimizers.RMSprop(),\n",
        "                        metrics=['accuracy'])"
      ],
      "execution_count": 27,
      "outputs": []
    },
    {
      "cell_type": "code",
      "metadata": {
        "id": "FDS3IcgsZaSz",
        "colab_type": "code",
        "colab": {}
      },
      "source": [
        "## Making dimensions of y_train match that of model output ##\n",
        "\n",
        "def create_label(class_):\n",
        "    return [1 if int(class_)-1==x else 0 for x in range(10)]\n",
        "    \n",
        "    \n",
        "y_train_logits = pd.DataFrame(np.array([create_label(x) for x in y_train]))\n",
        "y_test_logits  = pd.DataFrame(np.array([create_label(x) for x in y_test]))"
      ],
      "execution_count": 28,
      "outputs": []
    },
    {
      "cell_type": "code",
      "metadata": {
        "id": "-m8RlGHpd2lr",
        "colab_type": "code",
        "colab": {
          "base_uri": "https://localhost:8080/",
          "height": 35
        },
        "outputId": "057432af-c39d-4133-a558-8af1ec36d62a"
      },
      "source": [
        "y_train_logits.shape, sequences_matrix.shape"
      ],
      "execution_count": 29,
      "outputs": [
        {
          "output_type": "execute_result",
          "data": {
            "text/plain": [
              "((852, 10), (852, 166))"
            ]
          },
          "metadata": {
            "tags": []
          },
          "execution_count": 29
        }
      ]
    },
    {
      "cell_type": "code",
      "metadata": {
        "id": "hTs1CpFSWkBU",
        "colab_type": "code",
        "colab": {
          "base_uri": "https://localhost:8080/",
          "height": 762
        },
        "outputId": "da9efc87-8229-481e-fc96-16ed00dc8410"
      },
      "source": [
        "text_classifier.fit(sequences_matrix,y_train_logits,\n",
        "                    batch_size=32,\n",
        "                    epochs=20,\n",
        "                    validation_split=0.2)"
      ],
      "execution_count": 30,
      "outputs": [
        {
          "output_type": "stream",
          "text": [
            "Epoch 1/20\n",
            "22/22 [==============================] - 3s 132ms/step - loss: 1.7703 - accuracy: 0.5507 - val_loss: 1.6501 - val_accuracy: 0.5439\n",
            "Epoch 2/20\n",
            "22/22 [==============================] - 3s 117ms/step - loss: 1.5607 - accuracy: 0.5918 - val_loss: 1.6345 - val_accuracy: 0.5439\n",
            "Epoch 3/20\n",
            "22/22 [==============================] - 3s 116ms/step - loss: 1.5420 - accuracy: 0.5918 - val_loss: 1.6354 - val_accuracy: 0.5439\n",
            "Epoch 4/20\n",
            "22/22 [==============================] - 3s 116ms/step - loss: 1.4422 - accuracy: 0.5918 - val_loss: 1.6230 - val_accuracy: 0.5439\n",
            "Epoch 5/20\n",
            "22/22 [==============================] - 3s 120ms/step - loss: 1.3089 - accuracy: 0.5947 - val_loss: 1.8015 - val_accuracy: 0.5439\n",
            "Epoch 6/20\n",
            "22/22 [==============================] - 3s 121ms/step - loss: 1.2047 - accuracy: 0.6079 - val_loss: 1.6373 - val_accuracy: 0.4854\n",
            "Epoch 7/20\n",
            "22/22 [==============================] - 3s 118ms/step - loss: 1.1540 - accuracy: 0.6226 - val_loss: 1.9015 - val_accuracy: 0.5497\n",
            "Epoch 8/20\n",
            "22/22 [==============================] - 3s 117ms/step - loss: 1.0862 - accuracy: 0.6417 - val_loss: 1.6916 - val_accuracy: 0.5029\n",
            "Epoch 9/20\n",
            "22/22 [==============================] - 3s 117ms/step - loss: 1.0669 - accuracy: 0.6490 - val_loss: 1.7123 - val_accuracy: 0.5029\n",
            "Epoch 10/20\n",
            "22/22 [==============================] - 3s 116ms/step - loss: 1.0321 - accuracy: 0.6593 - val_loss: 1.7609 - val_accuracy: 0.4971\n",
            "Epoch 11/20\n",
            "22/22 [==============================] - 3s 117ms/step - loss: 0.9867 - accuracy: 0.6799 - val_loss: 1.8034 - val_accuracy: 0.5029\n",
            "Epoch 12/20\n",
            "22/22 [==============================] - 3s 117ms/step - loss: 0.9642 - accuracy: 0.6799 - val_loss: 1.9079 - val_accuracy: 0.5205\n",
            "Epoch 13/20\n",
            "22/22 [==============================] - 3s 118ms/step - loss: 0.9446 - accuracy: 0.6814 - val_loss: 2.1555 - val_accuracy: 0.4971\n",
            "Epoch 14/20\n",
            "22/22 [==============================] - 3s 118ms/step - loss: 0.9106 - accuracy: 0.7004 - val_loss: 2.2718 - val_accuracy: 0.5263\n",
            "Epoch 15/20\n",
            "22/22 [==============================] - 3s 118ms/step - loss: 0.8882 - accuracy: 0.7151 - val_loss: 2.2046 - val_accuracy: 0.5146\n",
            "Epoch 16/20\n",
            "22/22 [==============================] - 3s 121ms/step - loss: 0.8666 - accuracy: 0.7019 - val_loss: 2.6421 - val_accuracy: 0.5205\n",
            "Epoch 17/20\n",
            "22/22 [==============================] - 3s 122ms/step - loss: 0.8466 - accuracy: 0.7166 - val_loss: 2.2870 - val_accuracy: 0.4912\n",
            "Epoch 18/20\n",
            "22/22 [==============================] - 3s 119ms/step - loss: 0.8556 - accuracy: 0.7122 - val_loss: 2.4166 - val_accuracy: 0.5205\n",
            "Epoch 19/20\n",
            "22/22 [==============================] - 3s 118ms/step - loss: 0.7965 - accuracy: 0.7327 - val_loss: 2.4026 - val_accuracy: 0.4503\n",
            "Epoch 20/20\n",
            "22/22 [==============================] - 3s 117ms/step - loss: 0.7908 - accuracy: 0.7357 - val_loss: 2.5657 - val_accuracy: 0.5263\n"
          ],
          "name": "stdout"
        },
        {
          "output_type": "execute_result",
          "data": {
            "text/plain": [
              "<tensorflow.python.keras.callbacks.History at 0x7f8ffd8bbc50>"
            ]
          },
          "metadata": {
            "tags": []
          },
          "execution_count": 30
        }
      ]
    },
    {
      "cell_type": "code",
      "metadata": {
        "id": "4A0hg7d8W8Lb",
        "colab_type": "code",
        "colab": {}
      },
      "source": [
        ""
      ],
      "execution_count": null,
      "outputs": []
    }
  ]
}